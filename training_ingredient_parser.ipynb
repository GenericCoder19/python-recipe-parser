{
 "cells": [
  {
   "cell_type": "markdown",
   "metadata": {},
   "source": [
    "# Training Ingredient Parser\n",
    "This is the test area for training a parser.\n",
    "[Reference Material](https://github.com/TeamHG-Memex/sklearn-crfsuite/blob/master/docs/CoNLL2002.ipynb)"
   ]
  },
  {
   "cell_type": "code",
   "execution_count": 2,
   "metadata": {},
   "outputs": [],
   "source": [
    "# matplotlib inline\n",
    "import matplotlib.pyplot as plt\n",
    "plt.style.use('ggplot')"
   ]
  },
  {
   "cell_type": "code",
   "execution_count": 4,
   "metadata": {},
   "outputs": [],
   "source": [
    "from itertools import chain\n",
    "\n",
    "import csv\n",
    "\n",
    "import nltk\n",
    "import sklearn\n",
    "import scipy.stats\n",
    "from sklearn.metrics import make_scorer\n",
    "from sklearn.model_selection import cross_val_score\n",
    "from sklearn.model_selection import RandomizedSearchCV\n",
    "\n",
    "import sklearn_crfsuite\n",
    "from sklearn_crfsuite import scorers\n",
    "from sklearn_crfsuite import metrics"
   ]
  },
  {
   "cell_type": "code",
   "execution_count": 19,
   "metadata": {},
   "outputs": [],
   "source": [
    "entries = []\n",
    "headers = []\n",
    "first = 1\n",
    "\n",
    "with open('nyt-ingredients-snapshot-2015.csv') as csvfile:\n",
    "    ingredient_reader = csv.reader(csvfile)\n",
    "    for row in ingredient_reader:\n",
    "        if first:\n",
    "            headers += row\n",
    "            first = 0\n",
    "        else:\n",
    "            entries.append(row)"
   ]
  },
  {
   "cell_type": "markdown",
   "metadata": {},
   "source": [
    "> Note that this is currently only trying to get the correct quantity/amount of the ingredient"
   ]
  },
  {
   "cell_type": "code",
   "execution_count": 42,
   "metadata": {},
   "outputs": [],
   "source": [
    "def sent2features(sent):\n",
    "    nonAlpha = \"\"\n",
    "    try:\n",
    "        words = sent[1].split(' ')\n",
    "        word = words.pop(0)\n",
    "        while(not word.isalpha()):\n",
    "            nonAlpha += word + \" \"\n",
    "            word = words.pop(0)\n",
    "    except:\n",
    "        pass\n",
    "    nonAlpha = nonAlpha.strip()\n",
    "    return [{'sent': sent[1], 'nonAlpha': nonAlpha}]\n",
    "\n",
    "def sent2labels(sent):\n",
    "    return [sent[3]]"
   ]
  },
  {
   "cell_type": "code",
   "execution_count": 43,
   "metadata": {},
   "outputs": [],
   "source": [
    "X_train = [sent2features(s) for s in entries[:50000]]\n",
    "y_train = [sent2labels(s) for s in entries[:50000]]\n",
    "\n",
    "X_test = [sent2features(s) for s in entries[51000:100000]]\n",
    "y_test = [sent2labels(s) for s in entries[51000:100000]]"
   ]
  },
  {
   "cell_type": "code",
   "execution_count": 44,
   "metadata": {},
   "outputs": [
    {
     "data": {
      "text/plain": [
       "[[{'sent': '1 1/4 cups cooked and pureed fresh butternut squash, or 1 10-ounce package frozen squash, defrosted',\n",
       "   'nonAlpha': '1 1/4'}],\n",
       " [{'sent': '1 cup peeled and cooked fresh chestnuts (about 20), or 1 cup canned, unsweetened chestnuts',\n",
       "   'nonAlpha': '1'}],\n",
       " [{'sent': '1 medium-size onion, peeled and chopped',\n",
       "   'nonAlpha': '1 medium-size onion,'}],\n",
       " [{'sent': '2 stalks celery, chopped coarse', 'nonAlpha': '2'}],\n",
       " [{'sent': '1 1/2 tablespoons vegetable oil', 'nonAlpha': '1 1/2'}],\n",
       " [{'sent': '', 'nonAlpha': ''}],\n",
       " [{'sent': '2 tablespoons unflavored gelatin, dissolved in 1/2 cup water',\n",
       "   'nonAlpha': '2'}],\n",
       " [{'sent': 'Salt', 'nonAlpha': ''}],\n",
       " [{'sent': '1 cup canned plum tomatoes with juice', 'nonAlpha': '1'}],\n",
       " [{'sent': '6 cups veal or beef stock', 'nonAlpha': '6'}]]"
      ]
     },
     "execution_count": 44,
     "metadata": {},
     "output_type": "execute_result"
    }
   ],
   "source": [
    "X_train[:10]"
   ]
  },
  {
   "cell_type": "code",
   "execution_count": 46,
   "metadata": {
    "scrolled": true
   },
   "outputs": [
    {
     "name": "stdout",
     "output_type": "stream",
     "text": [
      "CPU times: user 2min 5s, sys: 31.2 ms, total: 2min 5s\n",
      "Wall time: 2min 5s\n"
     ]
    },
    {
     "name": "stderr",
     "output_type": "stream",
     "text": [
      "/home/aaron/.local/lib/python3.8/site-packages/sklearn/base.py:209: FutureWarning: From version 0.24, get_params will raise an AttributeError if a parameter cannot be retrieved as an instance attribute. Previously it would return None.\n",
      "  warnings.warn('From version 0.24, get_params will raise an '\n"
     ]
    },
    {
     "data": {
      "text/plain": [
       "CRF(algorithm='lbfgs', all_possible_transitions=True, c1=0.1, c2=0.1,\n",
       "    keep_tempfiles=None, max_iterations=100)"
      ]
     },
     "execution_count": 46,
     "metadata": {},
     "output_type": "execute_result"
    }
   ],
   "source": [
    "%%time\n",
    "crf = sklearn_crfsuite.CRF(\n",
    "    algorithm='lbfgs', \n",
    "    c1=0.1, \n",
    "    c2=0.1, \n",
    "    max_iterations=100, \n",
    "    all_possible_transitions=True\n",
    ")\n",
    "crf.fit(X_train, y_train)"
   ]
  },
  {
   "cell_type": "code",
   "execution_count": 50,
   "metadata": {},
   "outputs": [
    {
     "name": "stderr",
     "output_type": "stream",
     "text": [
      "/home/aaron/.local/lib/python3.8/site-packages/sklearn/metrics/_classification.py:1464: UndefinedMetricWarning: F-score is ill-defined and being set to 0.0 in labels with no true nor predicted samples. Use `zero_division` parameter to control this behavior.\n",
      "  _warn_prf(\n"
     ]
    },
    {
     "data": {
      "text/plain": [
       "0.9663775050525185"
      ]
     },
     "execution_count": 50,
     "metadata": {},
     "output_type": "execute_result"
    }
   ],
   "source": [
    "y_pred = crf.predict(X_test)\n",
    "metrics.flat_f1_score(y_test, y_pred, average='weighted', labels=list(crf.classes_))"
   ]
  },
  {
   "cell_type": "markdown",
   "metadata": {},
   "source": [
    "TODO -> run this to try to get the unit and then the ingredient itself"
   ]
  },
  {
   "cell_type": "code",
   "execution_count": null,
   "metadata": {},
   "outputs": [],
   "source": []
  }
 ],
 "metadata": {
  "kernelspec": {
   "display_name": "Python 3",
   "language": "python",
   "name": "python3"
  },
  "language_info": {
   "codemirror_mode": {
    "name": "ipython",
    "version": 3
   },
   "file_extension": ".py",
   "mimetype": "text/x-python",
   "name": "python",
   "nbconvert_exporter": "python",
   "pygments_lexer": "ipython3",
   "version": "3.8.2"
  }
 },
 "nbformat": 4,
 "nbformat_minor": 4
}
